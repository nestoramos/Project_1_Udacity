{
 "cells": [
  {
   "cell_type": "code",
   "execution_count": 317,
   "id": "ad1f456f",
   "metadata": {},
   "outputs": [],
   "source": [
    "#IIMPORT THE NECESSARY LIBRARIES\n",
    "import numpy as np\n",
    "import pandas as pd\n",
    "import matplotlib.pyplot as plt\n",
    "import seaborn as sb\n",
    "from sklearn.linear_model import LinearRegression\n",
    "from sklearn.model_selection import train_test_split\n",
    "from sklearn.metrics import r2_score, mean_squared_error\n",
    "\n",
    "%matplotlib inline"
   ]
  },
  {
   "cell_type": "code",
   "execution_count": 318,
   "id": "81cb32b1",
   "metadata": {},
   "outputs": [],
   "source": [
    "#IMPORT THE DATASET\n",
    "df = pd.read_csv('listings.csv')"
   ]
  },
  {
   "cell_type": "code",
   "execution_count": 319,
   "id": "6680b151",
   "metadata": {},
   "outputs": [
    {
     "data": {
      "text/html": [
       "<div>\n",
       "<style scoped>\n",
       "    .dataframe tbody tr th:only-of-type {\n",
       "        vertical-align: middle;\n",
       "    }\n",
       "\n",
       "    .dataframe tbody tr th {\n",
       "        vertical-align: top;\n",
       "    }\n",
       "\n",
       "    .dataframe thead th {\n",
       "        text-align: right;\n",
       "    }\n",
       "</style>\n",
       "<table border=\"1\" class=\"dataframe\">\n",
       "  <thead>\n",
       "    <tr style=\"text-align: right;\">\n",
       "      <th></th>\n",
       "      <th>id</th>\n",
       "      <th>listing_url</th>\n",
       "      <th>scrape_id</th>\n",
       "      <th>last_scraped</th>\n",
       "      <th>name</th>\n",
       "      <th>summary</th>\n",
       "      <th>space</th>\n",
       "      <th>description</th>\n",
       "      <th>experiences_offered</th>\n",
       "      <th>neighborhood_overview</th>\n",
       "      <th>...</th>\n",
       "      <th>review_scores_value</th>\n",
       "      <th>requires_license</th>\n",
       "      <th>license</th>\n",
       "      <th>jurisdiction_names</th>\n",
       "      <th>instant_bookable</th>\n",
       "      <th>cancellation_policy</th>\n",
       "      <th>require_guest_profile_picture</th>\n",
       "      <th>require_guest_phone_verification</th>\n",
       "      <th>calculated_host_listings_count</th>\n",
       "      <th>reviews_per_month</th>\n",
       "    </tr>\n",
       "  </thead>\n",
       "  <tbody>\n",
       "    <tr>\n",
       "      <th>0</th>\n",
       "      <td>241032</td>\n",
       "      <td>https://www.airbnb.com/rooms/241032</td>\n",
       "      <td>20160104002432</td>\n",
       "      <td>2016-01-04</td>\n",
       "      <td>Stylish Queen Anne Apartment</td>\n",
       "      <td>NaN</td>\n",
       "      <td>Make your self at home in this charming one-be...</td>\n",
       "      <td>Make your self at home in this charming one-be...</td>\n",
       "      <td>none</td>\n",
       "      <td>NaN</td>\n",
       "      <td>...</td>\n",
       "      <td>10.0</td>\n",
       "      <td>f</td>\n",
       "      <td>NaN</td>\n",
       "      <td>WASHINGTON</td>\n",
       "      <td>f</td>\n",
       "      <td>moderate</td>\n",
       "      <td>f</td>\n",
       "      <td>f</td>\n",
       "      <td>2</td>\n",
       "      <td>4.07</td>\n",
       "    </tr>\n",
       "    <tr>\n",
       "      <th>1</th>\n",
       "      <td>953595</td>\n",
       "      <td>https://www.airbnb.com/rooms/953595</td>\n",
       "      <td>20160104002432</td>\n",
       "      <td>2016-01-04</td>\n",
       "      <td>Bright &amp; Airy Queen Anne Apartment</td>\n",
       "      <td>Chemically sensitive? We've removed the irrita...</td>\n",
       "      <td>Beautiful, hypoallergenic apartment in an extr...</td>\n",
       "      <td>Chemically sensitive? We've removed the irrita...</td>\n",
       "      <td>none</td>\n",
       "      <td>Queen Anne is a wonderful, truly functional vi...</td>\n",
       "      <td>...</td>\n",
       "      <td>10.0</td>\n",
       "      <td>f</td>\n",
       "      <td>NaN</td>\n",
       "      <td>WASHINGTON</td>\n",
       "      <td>f</td>\n",
       "      <td>strict</td>\n",
       "      <td>t</td>\n",
       "      <td>t</td>\n",
       "      <td>6</td>\n",
       "      <td>1.48</td>\n",
       "    </tr>\n",
       "    <tr>\n",
       "      <th>2</th>\n",
       "      <td>3308979</td>\n",
       "      <td>https://www.airbnb.com/rooms/3308979</td>\n",
       "      <td>20160104002432</td>\n",
       "      <td>2016-01-04</td>\n",
       "      <td>New Modern House-Amazing water view</td>\n",
       "      <td>New modern house built in 2013.  Spectacular s...</td>\n",
       "      <td>Our house is modern, light and fresh with a wa...</td>\n",
       "      <td>New modern house built in 2013.  Spectacular s...</td>\n",
       "      <td>none</td>\n",
       "      <td>Upper Queen Anne is a charming neighborhood fu...</td>\n",
       "      <td>...</td>\n",
       "      <td>10.0</td>\n",
       "      <td>f</td>\n",
       "      <td>NaN</td>\n",
       "      <td>WASHINGTON</td>\n",
       "      <td>f</td>\n",
       "      <td>strict</td>\n",
       "      <td>f</td>\n",
       "      <td>f</td>\n",
       "      <td>2</td>\n",
       "      <td>1.15</td>\n",
       "    </tr>\n",
       "    <tr>\n",
       "      <th>3</th>\n",
       "      <td>7421966</td>\n",
       "      <td>https://www.airbnb.com/rooms/7421966</td>\n",
       "      <td>20160104002432</td>\n",
       "      <td>2016-01-04</td>\n",
       "      <td>Queen Anne Chateau</td>\n",
       "      <td>A charming apartment that sits atop Queen Anne...</td>\n",
       "      <td>NaN</td>\n",
       "      <td>A charming apartment that sits atop Queen Anne...</td>\n",
       "      <td>none</td>\n",
       "      <td>NaN</td>\n",
       "      <td>...</td>\n",
       "      <td>NaN</td>\n",
       "      <td>f</td>\n",
       "      <td>NaN</td>\n",
       "      <td>WASHINGTON</td>\n",
       "      <td>f</td>\n",
       "      <td>flexible</td>\n",
       "      <td>f</td>\n",
       "      <td>f</td>\n",
       "      <td>1</td>\n",
       "      <td>NaN</td>\n",
       "    </tr>\n",
       "    <tr>\n",
       "      <th>4</th>\n",
       "      <td>278830</td>\n",
       "      <td>https://www.airbnb.com/rooms/278830</td>\n",
       "      <td>20160104002432</td>\n",
       "      <td>2016-01-04</td>\n",
       "      <td>Charming craftsman 3 bdm house</td>\n",
       "      <td>Cozy family craftman house in beautiful neighb...</td>\n",
       "      <td>Cozy family craftman house in beautiful neighb...</td>\n",
       "      <td>Cozy family craftman house in beautiful neighb...</td>\n",
       "      <td>none</td>\n",
       "      <td>We are in the beautiful neighborhood of Queen ...</td>\n",
       "      <td>...</td>\n",
       "      <td>9.0</td>\n",
       "      <td>f</td>\n",
       "      <td>NaN</td>\n",
       "      <td>WASHINGTON</td>\n",
       "      <td>f</td>\n",
       "      <td>strict</td>\n",
       "      <td>f</td>\n",
       "      <td>f</td>\n",
       "      <td>1</td>\n",
       "      <td>0.89</td>\n",
       "    </tr>\n",
       "  </tbody>\n",
       "</table>\n",
       "<p>5 rows × 92 columns</p>\n",
       "</div>"
      ],
      "text/plain": [
       "        id                           listing_url       scrape_id last_scraped  \\\n",
       "0   241032   https://www.airbnb.com/rooms/241032  20160104002432   2016-01-04   \n",
       "1   953595   https://www.airbnb.com/rooms/953595  20160104002432   2016-01-04   \n",
       "2  3308979  https://www.airbnb.com/rooms/3308979  20160104002432   2016-01-04   \n",
       "3  7421966  https://www.airbnb.com/rooms/7421966  20160104002432   2016-01-04   \n",
       "4   278830   https://www.airbnb.com/rooms/278830  20160104002432   2016-01-04   \n",
       "\n",
       "                                  name  \\\n",
       "0         Stylish Queen Anne Apartment   \n",
       "1   Bright & Airy Queen Anne Apartment   \n",
       "2  New Modern House-Amazing water view   \n",
       "3                   Queen Anne Chateau   \n",
       "4       Charming craftsman 3 bdm house   \n",
       "\n",
       "                                             summary  \\\n",
       "0                                                NaN   \n",
       "1  Chemically sensitive? We've removed the irrita...   \n",
       "2  New modern house built in 2013.  Spectacular s...   \n",
       "3  A charming apartment that sits atop Queen Anne...   \n",
       "4  Cozy family craftman house in beautiful neighb...   \n",
       "\n",
       "                                               space  \\\n",
       "0  Make your self at home in this charming one-be...   \n",
       "1  Beautiful, hypoallergenic apartment in an extr...   \n",
       "2  Our house is modern, light and fresh with a wa...   \n",
       "3                                                NaN   \n",
       "4  Cozy family craftman house in beautiful neighb...   \n",
       "\n",
       "                                         description experiences_offered  \\\n",
       "0  Make your self at home in this charming one-be...                none   \n",
       "1  Chemically sensitive? We've removed the irrita...                none   \n",
       "2  New modern house built in 2013.  Spectacular s...                none   \n",
       "3  A charming apartment that sits atop Queen Anne...                none   \n",
       "4  Cozy family craftman house in beautiful neighb...                none   \n",
       "\n",
       "                               neighborhood_overview  ... review_scores_value  \\\n",
       "0                                                NaN  ...                10.0   \n",
       "1  Queen Anne is a wonderful, truly functional vi...  ...                10.0   \n",
       "2  Upper Queen Anne is a charming neighborhood fu...  ...                10.0   \n",
       "3                                                NaN  ...                 NaN   \n",
       "4  We are in the beautiful neighborhood of Queen ...  ...                 9.0   \n",
       "\n",
       "  requires_license license jurisdiction_names instant_bookable  \\\n",
       "0                f     NaN         WASHINGTON                f   \n",
       "1                f     NaN         WASHINGTON                f   \n",
       "2                f     NaN         WASHINGTON                f   \n",
       "3                f     NaN         WASHINGTON                f   \n",
       "4                f     NaN         WASHINGTON                f   \n",
       "\n",
       "  cancellation_policy  require_guest_profile_picture  \\\n",
       "0            moderate                              f   \n",
       "1              strict                              t   \n",
       "2              strict                              f   \n",
       "3            flexible                              f   \n",
       "4              strict                              f   \n",
       "\n",
       "  require_guest_phone_verification calculated_host_listings_count  \\\n",
       "0                                f                              2   \n",
       "1                                t                              6   \n",
       "2                                f                              2   \n",
       "3                                f                              1   \n",
       "4                                f                              1   \n",
       "\n",
       "  reviews_per_month  \n",
       "0              4.07  \n",
       "1              1.48  \n",
       "2              1.15  \n",
       "3               NaN  \n",
       "4              0.89  \n",
       "\n",
       "[5 rows x 92 columns]"
      ]
     },
     "execution_count": 319,
     "metadata": {},
     "output_type": "execute_result"
    }
   ],
   "source": [
    "#CHECK THE DATASET\n",
    "df.head()"
   ]
  },
  {
   "cell_type": "code",
   "execution_count": 320,
   "id": "c132f579",
   "metadata": {},
   "outputs": [
    {
     "name": "stdout",
     "output_type": "stream",
     "text": [
      "<class 'pandas.core.frame.DataFrame'>\n",
      "RangeIndex: 3818 entries, 0 to 3817\n",
      "Data columns (total 92 columns):\n",
      " #   Column                            Non-Null Count  Dtype  \n",
      "---  ------                            --------------  -----  \n",
      " 0   id                                3818 non-null   int64  \n",
      " 1   listing_url                       3818 non-null   object \n",
      " 2   scrape_id                         3818 non-null   int64  \n",
      " 3   last_scraped                      3818 non-null   object \n",
      " 4   name                              3818 non-null   object \n",
      " 5   summary                           3641 non-null   object \n",
      " 6   space                             3249 non-null   object \n",
      " 7   description                       3818 non-null   object \n",
      " 8   experiences_offered               3818 non-null   object \n",
      " 9   neighborhood_overview             2786 non-null   object \n",
      " 10  notes                             2212 non-null   object \n",
      " 11  transit                           2884 non-null   object \n",
      " 12  thumbnail_url                     3498 non-null   object \n",
      " 13  medium_url                        3498 non-null   object \n",
      " 14  picture_url                       3818 non-null   object \n",
      " 15  xl_picture_url                    3498 non-null   object \n",
      " 16  host_id                           3818 non-null   int64  \n",
      " 17  host_url                          3818 non-null   object \n",
      " 18  host_name                         3816 non-null   object \n",
      " 19  host_since                        3816 non-null   object \n",
      " 20  host_location                     3810 non-null   object \n",
      " 21  host_about                        2959 non-null   object \n",
      " 22  host_response_time                3295 non-null   object \n",
      " 23  host_response_rate                3295 non-null   object \n",
      " 24  host_acceptance_rate              3045 non-null   object \n",
      " 25  host_is_superhost                 3816 non-null   object \n",
      " 26  host_thumbnail_url                3816 non-null   object \n",
      " 27  host_picture_url                  3816 non-null   object \n",
      " 28  host_neighbourhood                3518 non-null   object \n",
      " 29  host_listings_count               3816 non-null   float64\n",
      " 30  host_total_listings_count         3816 non-null   float64\n",
      " 31  host_verifications                3818 non-null   object \n",
      " 32  host_has_profile_pic              3816 non-null   object \n",
      " 33  host_identity_verified            3816 non-null   object \n",
      " 34  street                            3818 non-null   object \n",
      " 35  neighbourhood                     3402 non-null   object \n",
      " 36  neighbourhood_cleansed            3818 non-null   object \n",
      " 37  neighbourhood_group_cleansed      3818 non-null   object \n",
      " 38  city                              3818 non-null   object \n",
      " 39  state                             3818 non-null   object \n",
      " 40  zipcode                           3811 non-null   object \n",
      " 41  market                            3818 non-null   object \n",
      " 42  smart_location                    3818 non-null   object \n",
      " 43  country_code                      3818 non-null   object \n",
      " 44  country                           3818 non-null   object \n",
      " 45  latitude                          3818 non-null   float64\n",
      " 46  longitude                         3818 non-null   float64\n",
      " 47  is_location_exact                 3818 non-null   object \n",
      " 48  property_type                     3817 non-null   object \n",
      " 49  room_type                         3818 non-null   object \n",
      " 50  accommodates                      3818 non-null   int64  \n",
      " 51  bathrooms                         3802 non-null   float64\n",
      " 52  bedrooms                          3812 non-null   float64\n",
      " 53  beds                              3817 non-null   float64\n",
      " 54  bed_type                          3818 non-null   object \n",
      " 55  amenities                         3818 non-null   object \n",
      " 56  square_feet                       97 non-null     float64\n",
      " 57  price                             3818 non-null   object \n",
      " 58  weekly_price                      2009 non-null   object \n",
      " 59  monthly_price                     1517 non-null   object \n",
      " 60  security_deposit                  1866 non-null   object \n",
      " 61  cleaning_fee                      2788 non-null   object \n",
      " 62  guests_included                   3818 non-null   int64  \n",
      " 63  extra_people                      3818 non-null   object \n",
      " 64  minimum_nights                    3818 non-null   int64  \n",
      " 65  maximum_nights                    3818 non-null   int64  \n",
      " 66  calendar_updated                  3818 non-null   object \n",
      " 67  has_availability                  3818 non-null   object \n",
      " 68  availability_30                   3818 non-null   int64  \n",
      " 69  availability_60                   3818 non-null   int64  \n",
      " 70  availability_90                   3818 non-null   int64  \n",
      " 71  availability_365                  3818 non-null   int64  \n",
      " 72  calendar_last_scraped             3818 non-null   object \n",
      " 73  number_of_reviews                 3818 non-null   int64  \n",
      " 74  first_review                      3191 non-null   object \n",
      " 75  last_review                       3191 non-null   object \n",
      " 76  review_scores_rating              3171 non-null   float64\n",
      " 77  review_scores_accuracy            3160 non-null   float64\n",
      " 78  review_scores_cleanliness         3165 non-null   float64\n",
      " 79  review_scores_checkin             3160 non-null   float64\n",
      " 80  review_scores_communication       3167 non-null   float64\n",
      " 81  review_scores_location            3163 non-null   float64\n",
      " 82  review_scores_value               3162 non-null   float64\n",
      " 83  requires_license                  3818 non-null   object \n",
      " 84  license                           0 non-null      float64\n",
      " 85  jurisdiction_names                3818 non-null   object \n",
      " 86  instant_bookable                  3818 non-null   object \n",
      " 87  cancellation_policy               3818 non-null   object \n",
      " 88  require_guest_profile_picture     3818 non-null   object \n",
      " 89  require_guest_phone_verification  3818 non-null   object \n",
      " 90  calculated_host_listings_count    3818 non-null   int64  \n",
      " 91  reviews_per_month                 3191 non-null   float64\n",
      "dtypes: float64(17), int64(13), object(62)\n",
      "memory usage: 2.7+ MB\n"
     ]
    }
   ],
   "source": [
    "#CHECK GENERAL INFO ABOUT THE DATASET\n",
    "df.info()"
   ]
  },
  {
   "cell_type": "code",
   "execution_count": 321,
   "id": "2d309768",
   "metadata": {},
   "outputs": [],
   "source": [
    "# MAKE A COPY OF THE DATASET\n",
    "df_copy = df.copy()"
   ]
  },
  {
   "cell_type": "markdown",
   "id": "2234bb6a",
   "metadata": {},
   "source": [
    "CREATE FUNCTIONS"
   ]
  },
  {
   "cell_type": "code",
   "execution_count": 322,
   "id": "08677cc5",
   "metadata": {},
   "outputs": [],
   "source": [
    "# bar chart (horizontal view)\n",
    "#It requires y_value, n_total,var_counts, order, title, step_value\n",
    "\n",
    "def display_barh(df,y_value,n_total, var_counts, order,title,step_value):\n",
    "    '''\n",
    "    To create bar chart with proportions \n",
    "    '''\n",
    "    base_color = sb.color_palette()[0]\n",
    "    sb.countplot(data = df, y = y_value, color = base_color, order = order);\n",
    "    \n",
    "    for i in range(var_counts.shape[0]):\n",
    "        count = var_counts[i]\n",
    "        pct_string = '{:0.1f}%'.format(100*count/n_total)\n",
    "        plt.text(count+1, i, pct_string, va='center')\n",
    "        plt.title(title)\n",
    "        plt.xlabel('% Proportion')\n",
    "        \n",
    "        n_sum = var_counts.sum()\n",
    "        max_var_counts = var_counts[0]\n",
    "        max_prop = max_var_counts/n_sum\n",
    "    \n",
    "        tick_props = np.arange(0, max_prop, step_value)\n",
    "        tick_names = ['{:0.2f}'.format(v) for v in tick_props]\n",
    "        plt.xticks(tick_props * n_sum, tick_names)"
   ]
  },
  {
   "cell_type": "code",
   "execution_count": 323,
   "id": "c9bcc606",
   "metadata": {},
   "outputs": [],
   "source": [
    "#FUNCTION TO CREATE DUMMIES\n",
    "\n",
    "def create_dummy_df(df, cat_cols, dummy_na):\n",
    "    \n",
    "    \n",
    "    for col in cat_cols:\n",
    "        try:\n",
    "            df = pd.concat([df.drop(col, axis=1), pd.get_dummies(df[col], prefix=col, prefix_sep='_', drop_first=True, dummy_na=dummy_na)], axis=1)\n",
    "        except:\n",
    "            continue\n",
    "    return df"
   ]
  },
  {
   "cell_type": "markdown",
   "id": "35774dcc",
   "metadata": {},
   "source": [
    "### Using the CRISP-DM PROCESS"
   ]
  },
  {
   "cell_type": "markdown",
   "id": "2d392be7",
   "metadata": {},
   "source": [
    "> 2. Pose at least three questions related to business or real-world applications of how the data could be used.\n",
    "\n",
    "> CONTEXT: TO THIS PROJECT, I'M ASSUMING I'M A PERSON WHO IS TRYING TO ENTER IN THE AIRBNB MARKET IN SEATTLE, SO I WANT TO UNDERSTAND, HOW IS THE MARKET, PRICE, WHAT KIND OF PROPERTY ARE MORE COMMON AND CHARACTERISTICS. AT THE END, I WANT TO CREATE A MODEL TO PREDICT THE PRICE SINCE THE DESCRIPTIONS ABOVE.\n",
    "\n"
   ]
  },
  {
   "cell_type": "markdown",
   "id": "91dc8809",
   "metadata": {},
   "source": [
    ">> 1. What is the most common property?\n",
    ">> 2. How is the behavior of the unit price of that specific properties?\n",
    ">> 3. What kind of things that properties should have?\n",
    ">> 4. How could be a model to predict the unit price?"
   ]
  },
  {
   "cell_type": "markdown",
   "id": "44293676",
   "metadata": {},
   "source": [
    "> 3. Prepare data"
   ]
  },
  {
   "cell_type": "code",
   "execution_count": 324,
   "id": "ab0ac9ef",
   "metadata": {},
   "outputs": [
    {
     "data": {
      "text/html": [
       "<div>\n",
       "<style scoped>\n",
       "    .dataframe tbody tr th:only-of-type {\n",
       "        vertical-align: middle;\n",
       "    }\n",
       "\n",
       "    .dataframe tbody tr th {\n",
       "        vertical-align: top;\n",
       "    }\n",
       "\n",
       "    .dataframe thead th {\n",
       "        text-align: right;\n",
       "    }\n",
       "</style>\n",
       "<table border=\"1\" class=\"dataframe\">\n",
       "  <thead>\n",
       "    <tr style=\"text-align: right;\">\n",
       "      <th></th>\n",
       "      <th>id</th>\n",
       "      <th>listing_url</th>\n",
       "      <th>scrape_id</th>\n",
       "      <th>last_scraped</th>\n",
       "      <th>name</th>\n",
       "      <th>summary</th>\n",
       "      <th>space</th>\n",
       "      <th>description</th>\n",
       "      <th>experiences_offered</th>\n",
       "      <th>neighborhood_overview</th>\n",
       "      <th>...</th>\n",
       "      <th>review_scores_value</th>\n",
       "      <th>requires_license</th>\n",
       "      <th>license</th>\n",
       "      <th>jurisdiction_names</th>\n",
       "      <th>instant_bookable</th>\n",
       "      <th>cancellation_policy</th>\n",
       "      <th>require_guest_profile_picture</th>\n",
       "      <th>require_guest_phone_verification</th>\n",
       "      <th>calculated_host_listings_count</th>\n",
       "      <th>reviews_per_month</th>\n",
       "    </tr>\n",
       "  </thead>\n",
       "  <tbody>\n",
       "  </tbody>\n",
       "</table>\n",
       "<p>0 rows × 92 columns</p>\n",
       "</div>"
      ],
      "text/plain": [
       "Empty DataFrame\n",
       "Columns: [id, listing_url, scrape_id, last_scraped, name, summary, space, description, experiences_offered, neighborhood_overview, notes, transit, thumbnail_url, medium_url, picture_url, xl_picture_url, host_id, host_url, host_name, host_since, host_location, host_about, host_response_time, host_response_rate, host_acceptance_rate, host_is_superhost, host_thumbnail_url, host_picture_url, host_neighbourhood, host_listings_count, host_total_listings_count, host_verifications, host_has_profile_pic, host_identity_verified, street, neighbourhood, neighbourhood_cleansed, neighbourhood_group_cleansed, city, state, zipcode, market, smart_location, country_code, country, latitude, longitude, is_location_exact, property_type, room_type, accommodates, bathrooms, bedrooms, beds, bed_type, amenities, square_feet, price, weekly_price, monthly_price, security_deposit, cleaning_fee, guests_included, extra_people, minimum_nights, maximum_nights, calendar_updated, has_availability, availability_30, availability_60, availability_90, availability_365, calendar_last_scraped, number_of_reviews, first_review, last_review, review_scores_rating, review_scores_accuracy, review_scores_cleanliness, review_scores_checkin, review_scores_communication, review_scores_location, review_scores_value, requires_license, license, jurisdiction_names, instant_bookable, cancellation_policy, require_guest_profile_picture, require_guest_phone_verification, calculated_host_listings_count, reviews_per_month]\n",
       "Index: []\n",
       "\n",
       "[0 rows x 92 columns]"
      ]
     },
     "execution_count": 324,
     "metadata": {},
     "output_type": "execute_result"
    }
   ],
   "source": [
    "# CHECK IF THERE ARE DUPLICATED ID\n",
    "df_copy[df_copy['id'].duplicated() == True]"
   ]
  },
  {
   "cell_type": "markdown",
   "id": "687a51d1",
   "metadata": {},
   "source": [
    "### Wrangling"
   ]
  },
  {
   "cell_type": "markdown",
   "id": "def53f2f",
   "metadata": {},
   "source": [
    "#### Some issues about the data"
   ]
  },
  {
   "cell_type": "markdown",
   "id": "3d1a8ce2",
   "metadata": {},
   "source": [
    "> 1. There are columns no needed\n",
    "> 2. There are columns with NaN values\n",
    "> 3. Price columns is objetc Dtype\n",
    "> 4. Price columns contains '$' and ','\n",
    "> 5. guest_included columns has values equal cero\n",
    "> 6. The price is for each listing, to compare prices, it is needed an unit price \n",
    "\n"
   ]
  },
  {
   "cell_type": "markdown",
   "id": "04a75279",
   "metadata": {},
   "source": [
    "#### Data cleaning"
   ]
  },
  {
   "cell_type": "markdown",
   "id": "4e2149df",
   "metadata": {},
   "source": [
    "> 1. Drop innecesary columns"
   ]
  },
  {
   "cell_type": "code",
   "execution_count": 325,
   "id": "ff043ed1",
   "metadata": {},
   "outputs": [],
   "source": [
    "# DROP INNECESARY COLUMNS\n",
    "df_copy = df_copy[['neighbourhood_cleansed','property_type','room_type','accommodates','bathrooms','bedrooms','beds','bed_type','price','guests_included','review_scores_rating','review_scores_accuracy','review_scores_cleanliness','review_scores_checkin','review_scores_communication','review_scores_location','review_scores_value']]"
   ]
  },
  {
   "cell_type": "code",
   "execution_count": 326,
   "id": "0573341c",
   "metadata": {},
   "outputs": [
    {
     "name": "stdout",
     "output_type": "stream",
     "text": [
      "<class 'pandas.core.frame.DataFrame'>\n",
      "RangeIndex: 3818 entries, 0 to 3817\n",
      "Data columns (total 17 columns):\n",
      " #   Column                       Non-Null Count  Dtype  \n",
      "---  ------                       --------------  -----  \n",
      " 0   neighbourhood_cleansed       3818 non-null   object \n",
      " 1   property_type                3817 non-null   object \n",
      " 2   room_type                    3818 non-null   object \n",
      " 3   accommodates                 3818 non-null   int64  \n",
      " 4   bathrooms                    3802 non-null   float64\n",
      " 5   bedrooms                     3812 non-null   float64\n",
      " 6   beds                         3817 non-null   float64\n",
      " 7   bed_type                     3818 non-null   object \n",
      " 8   price                        3818 non-null   object \n",
      " 9   guests_included              3818 non-null   int64  \n",
      " 10  review_scores_rating         3171 non-null   float64\n",
      " 11  review_scores_accuracy       3160 non-null   float64\n",
      " 12  review_scores_cleanliness    3165 non-null   float64\n",
      " 13  review_scores_checkin        3160 non-null   float64\n",
      " 14  review_scores_communication  3167 non-null   float64\n",
      " 15  review_scores_location       3163 non-null   float64\n",
      " 16  review_scores_value          3162 non-null   float64\n",
      "dtypes: float64(10), int64(2), object(5)\n",
      "memory usage: 507.2+ KB\n"
     ]
    }
   ],
   "source": [
    "# CHECK THE DROP WORKS\n",
    "df_copy.info()"
   ]
  },
  {
   "cell_type": "markdown",
   "id": "656b1899",
   "metadata": {},
   "source": [
    "> 2. Check the columns with NaN values"
   ]
  },
  {
   "cell_type": "code",
   "execution_count": 327,
   "id": "432dee05",
   "metadata": {},
   "outputs": [
    {
     "data": {
      "text/plain": [
       "neighbourhood_cleansed           0\n",
       "property_type                    1\n",
       "room_type                        0\n",
       "accommodates                     0\n",
       "bathrooms                       16\n",
       "bedrooms                         6\n",
       "beds                             1\n",
       "bed_type                         0\n",
       "price                            0\n",
       "guests_included                  0\n",
       "review_scores_rating           647\n",
       "review_scores_accuracy         658\n",
       "review_scores_cleanliness      653\n",
       "review_scores_checkin          658\n",
       "review_scores_communication    651\n",
       "review_scores_location         655\n",
       "review_scores_value            656\n",
       "dtype: int64"
      ]
     },
     "execution_count": 327,
     "metadata": {},
     "output_type": "execute_result"
    }
   ],
   "source": [
    "df_copy.isnull().sum()"
   ]
  },
  {
   "cell_type": "code",
   "execution_count": 328,
   "id": "2bc975eb",
   "metadata": {},
   "outputs": [
    {
     "data": {
      "text/html": [
       "<div>\n",
       "<style scoped>\n",
       "    .dataframe tbody tr th:only-of-type {\n",
       "        vertical-align: middle;\n",
       "    }\n",
       "\n",
       "    .dataframe tbody tr th {\n",
       "        vertical-align: top;\n",
       "    }\n",
       "\n",
       "    .dataframe thead th {\n",
       "        text-align: right;\n",
       "    }\n",
       "</style>\n",
       "<table border=\"1\" class=\"dataframe\">\n",
       "  <thead>\n",
       "    <tr style=\"text-align: right;\">\n",
       "      <th></th>\n",
       "      <th>neighbourhood_cleansed</th>\n",
       "      <th>property_type</th>\n",
       "      <th>room_type</th>\n",
       "      <th>accommodates</th>\n",
       "      <th>bathrooms</th>\n",
       "      <th>bedrooms</th>\n",
       "      <th>beds</th>\n",
       "      <th>bed_type</th>\n",
       "      <th>price</th>\n",
       "      <th>guests_included</th>\n",
       "      <th>review_scores_rating</th>\n",
       "      <th>review_scores_accuracy</th>\n",
       "      <th>review_scores_cleanliness</th>\n",
       "      <th>review_scores_checkin</th>\n",
       "      <th>review_scores_communication</th>\n",
       "      <th>review_scores_location</th>\n",
       "      <th>review_scores_value</th>\n",
       "    </tr>\n",
       "  </thead>\n",
       "  <tbody>\n",
       "    <tr>\n",
       "      <th>3</th>\n",
       "      <td>West Queen Anne</td>\n",
       "      <td>Apartment</td>\n",
       "      <td>Entire home/apt</td>\n",
       "      <td>3</td>\n",
       "      <td>1.0</td>\n",
       "      <td>0.0</td>\n",
       "      <td>2.0</td>\n",
       "      <td>Real Bed</td>\n",
       "      <td>$100.00</td>\n",
       "      <td>1</td>\n",
       "      <td>NaN</td>\n",
       "      <td>NaN</td>\n",
       "      <td>NaN</td>\n",
       "      <td>NaN</td>\n",
       "      <td>NaN</td>\n",
       "      <td>NaN</td>\n",
       "      <td>NaN</td>\n",
       "    </tr>\n",
       "    <tr>\n",
       "      <th>18</th>\n",
       "      <td>West Queen Anne</td>\n",
       "      <td>Apartment</td>\n",
       "      <td>Private room</td>\n",
       "      <td>2</td>\n",
       "      <td>2.0</td>\n",
       "      <td>1.0</td>\n",
       "      <td>1.0</td>\n",
       "      <td>Futon</td>\n",
       "      <td>$200.00</td>\n",
       "      <td>1</td>\n",
       "      <td>NaN</td>\n",
       "      <td>NaN</td>\n",
       "      <td>NaN</td>\n",
       "      <td>NaN</td>\n",
       "      <td>NaN</td>\n",
       "      <td>NaN</td>\n",
       "      <td>NaN</td>\n",
       "    </tr>\n",
       "    <tr>\n",
       "      <th>23</th>\n",
       "      <td>West Queen Anne</td>\n",
       "      <td>House</td>\n",
       "      <td>Private room</td>\n",
       "      <td>2</td>\n",
       "      <td>1.0</td>\n",
       "      <td>1.0</td>\n",
       "      <td>1.0</td>\n",
       "      <td>Real Bed</td>\n",
       "      <td>$75.00</td>\n",
       "      <td>1</td>\n",
       "      <td>NaN</td>\n",
       "      <td>NaN</td>\n",
       "      <td>NaN</td>\n",
       "      <td>NaN</td>\n",
       "      <td>NaN</td>\n",
       "      <td>NaN</td>\n",
       "      <td>NaN</td>\n",
       "    </tr>\n",
       "    <tr>\n",
       "      <th>26</th>\n",
       "      <td>West Queen Anne</td>\n",
       "      <td>House</td>\n",
       "      <td>Entire home/apt</td>\n",
       "      <td>5</td>\n",
       "      <td>1.0</td>\n",
       "      <td>2.0</td>\n",
       "      <td>3.0</td>\n",
       "      <td>Real Bed</td>\n",
       "      <td>$150.00</td>\n",
       "      <td>1</td>\n",
       "      <td>NaN</td>\n",
       "      <td>NaN</td>\n",
       "      <td>NaN</td>\n",
       "      <td>NaN</td>\n",
       "      <td>NaN</td>\n",
       "      <td>NaN</td>\n",
       "      <td>NaN</td>\n",
       "    </tr>\n",
       "    <tr>\n",
       "      <th>46</th>\n",
       "      <td>West Queen Anne</td>\n",
       "      <td>Bungalow</td>\n",
       "      <td>Entire home/apt</td>\n",
       "      <td>10</td>\n",
       "      <td>3.0</td>\n",
       "      <td>4.0</td>\n",
       "      <td>4.0</td>\n",
       "      <td>Real Bed</td>\n",
       "      <td>$349.00</td>\n",
       "      <td>1</td>\n",
       "      <td>NaN</td>\n",
       "      <td>NaN</td>\n",
       "      <td>NaN</td>\n",
       "      <td>NaN</td>\n",
       "      <td>NaN</td>\n",
       "      <td>NaN</td>\n",
       "      <td>NaN</td>\n",
       "    </tr>\n",
       "    <tr>\n",
       "      <th>...</th>\n",
       "      <td>...</td>\n",
       "      <td>...</td>\n",
       "      <td>...</td>\n",
       "      <td>...</td>\n",
       "      <td>...</td>\n",
       "      <td>...</td>\n",
       "      <td>...</td>\n",
       "      <td>...</td>\n",
       "      <td>...</td>\n",
       "      <td>...</td>\n",
       "      <td>...</td>\n",
       "      <td>...</td>\n",
       "      <td>...</td>\n",
       "      <td>...</td>\n",
       "      <td>...</td>\n",
       "      <td>...</td>\n",
       "      <td>...</td>\n",
       "    </tr>\n",
       "    <tr>\n",
       "      <th>3800</th>\n",
       "      <td>Fremont</td>\n",
       "      <td>Bed &amp; Breakfast</td>\n",
       "      <td>Private room</td>\n",
       "      <td>2</td>\n",
       "      <td>1.5</td>\n",
       "      <td>1.0</td>\n",
       "      <td>1.0</td>\n",
       "      <td>Real Bed</td>\n",
       "      <td>$185.00</td>\n",
       "      <td>1</td>\n",
       "      <td>NaN</td>\n",
       "      <td>NaN</td>\n",
       "      <td>NaN</td>\n",
       "      <td>NaN</td>\n",
       "      <td>NaN</td>\n",
       "      <td>NaN</td>\n",
       "      <td>NaN</td>\n",
       "    </tr>\n",
       "    <tr>\n",
       "      <th>3802</th>\n",
       "      <td>Fremont</td>\n",
       "      <td>House</td>\n",
       "      <td>Entire home/apt</td>\n",
       "      <td>4</td>\n",
       "      <td>1.0</td>\n",
       "      <td>2.0</td>\n",
       "      <td>2.0</td>\n",
       "      <td>Real Bed</td>\n",
       "      <td>$200.00</td>\n",
       "      <td>1</td>\n",
       "      <td>NaN</td>\n",
       "      <td>NaN</td>\n",
       "      <td>NaN</td>\n",
       "      <td>NaN</td>\n",
       "      <td>NaN</td>\n",
       "      <td>NaN</td>\n",
       "      <td>NaN</td>\n",
       "    </tr>\n",
       "    <tr>\n",
       "      <th>3815</th>\n",
       "      <td>Rainier Beach</td>\n",
       "      <td>House</td>\n",
       "      <td>Entire home/apt</td>\n",
       "      <td>2</td>\n",
       "      <td>1.0</td>\n",
       "      <td>1.0</td>\n",
       "      <td>1.0</td>\n",
       "      <td>Real Bed</td>\n",
       "      <td>$93.00</td>\n",
       "      <td>2</td>\n",
       "      <td>NaN</td>\n",
       "      <td>NaN</td>\n",
       "      <td>NaN</td>\n",
       "      <td>NaN</td>\n",
       "      <td>NaN</td>\n",
       "      <td>NaN</td>\n",
       "      <td>NaN</td>\n",
       "    </tr>\n",
       "    <tr>\n",
       "      <th>3816</th>\n",
       "      <td>Madison Park</td>\n",
       "      <td>Condominium</td>\n",
       "      <td>Entire home/apt</td>\n",
       "      <td>2</td>\n",
       "      <td>1.0</td>\n",
       "      <td>0.0</td>\n",
       "      <td>1.0</td>\n",
       "      <td>Real Bed</td>\n",
       "      <td>$99.00</td>\n",
       "      <td>1</td>\n",
       "      <td>NaN</td>\n",
       "      <td>NaN</td>\n",
       "      <td>NaN</td>\n",
       "      <td>NaN</td>\n",
       "      <td>NaN</td>\n",
       "      <td>NaN</td>\n",
       "      <td>NaN</td>\n",
       "    </tr>\n",
       "    <tr>\n",
       "      <th>3817</th>\n",
       "      <td>East Queen Anne</td>\n",
       "      <td>Apartment</td>\n",
       "      <td>Entire home/apt</td>\n",
       "      <td>3</td>\n",
       "      <td>1.5</td>\n",
       "      <td>2.0</td>\n",
       "      <td>1.0</td>\n",
       "      <td>Real Bed</td>\n",
       "      <td>$87.00</td>\n",
       "      <td>1</td>\n",
       "      <td>NaN</td>\n",
       "      <td>NaN</td>\n",
       "      <td>NaN</td>\n",
       "      <td>NaN</td>\n",
       "      <td>NaN</td>\n",
       "      <td>NaN</td>\n",
       "      <td>NaN</td>\n",
       "    </tr>\n",
       "  </tbody>\n",
       "</table>\n",
       "<p>678 rows × 17 columns</p>\n",
       "</div>"
      ],
      "text/plain": [
       "     neighbourhood_cleansed    property_type        room_type  accommodates  \\\n",
       "3           West Queen Anne        Apartment  Entire home/apt             3   \n",
       "18          West Queen Anne        Apartment     Private room             2   \n",
       "23          West Queen Anne            House     Private room             2   \n",
       "26          West Queen Anne            House  Entire home/apt             5   \n",
       "46          West Queen Anne         Bungalow  Entire home/apt            10   \n",
       "...                     ...              ...              ...           ...   \n",
       "3800                Fremont  Bed & Breakfast     Private room             2   \n",
       "3802                Fremont            House  Entire home/apt             4   \n",
       "3815          Rainier Beach            House  Entire home/apt             2   \n",
       "3816           Madison Park      Condominium  Entire home/apt             2   \n",
       "3817        East Queen Anne        Apartment  Entire home/apt             3   \n",
       "\n",
       "      bathrooms  bedrooms  beds  bed_type    price  guests_included  \\\n",
       "3           1.0       0.0   2.0  Real Bed  $100.00                1   \n",
       "18          2.0       1.0   1.0     Futon  $200.00                1   \n",
       "23          1.0       1.0   1.0  Real Bed   $75.00                1   \n",
       "26          1.0       2.0   3.0  Real Bed  $150.00                1   \n",
       "46          3.0       4.0   4.0  Real Bed  $349.00                1   \n",
       "...         ...       ...   ...       ...      ...              ...   \n",
       "3800        1.5       1.0   1.0  Real Bed  $185.00                1   \n",
       "3802        1.0       2.0   2.0  Real Bed  $200.00                1   \n",
       "3815        1.0       1.0   1.0  Real Bed   $93.00                2   \n",
       "3816        1.0       0.0   1.0  Real Bed   $99.00                1   \n",
       "3817        1.5       2.0   1.0  Real Bed   $87.00                1   \n",
       "\n",
       "      review_scores_rating  review_scores_accuracy  review_scores_cleanliness  \\\n",
       "3                      NaN                     NaN                        NaN   \n",
       "18                     NaN                     NaN                        NaN   \n",
       "23                     NaN                     NaN                        NaN   \n",
       "26                     NaN                     NaN                        NaN   \n",
       "46                     NaN                     NaN                        NaN   \n",
       "...                    ...                     ...                        ...   \n",
       "3800                   NaN                     NaN                        NaN   \n",
       "3802                   NaN                     NaN                        NaN   \n",
       "3815                   NaN                     NaN                        NaN   \n",
       "3816                   NaN                     NaN                        NaN   \n",
       "3817                   NaN                     NaN                        NaN   \n",
       "\n",
       "      review_scores_checkin  review_scores_communication  \\\n",
       "3                       NaN                          NaN   \n",
       "18                      NaN                          NaN   \n",
       "23                      NaN                          NaN   \n",
       "26                      NaN                          NaN   \n",
       "46                      NaN                          NaN   \n",
       "...                     ...                          ...   \n",
       "3800                    NaN                          NaN   \n",
       "3802                    NaN                          NaN   \n",
       "3815                    NaN                          NaN   \n",
       "3816                    NaN                          NaN   \n",
       "3817                    NaN                          NaN   \n",
       "\n",
       "      review_scores_location  review_scores_value  \n",
       "3                        NaN                  NaN  \n",
       "18                       NaN                  NaN  \n",
       "23                       NaN                  NaN  \n",
       "26                       NaN                  NaN  \n",
       "46                       NaN                  NaN  \n",
       "...                      ...                  ...  \n",
       "3800                     NaN                  NaN  \n",
       "3802                     NaN                  NaN  \n",
       "3815                     NaN                  NaN  \n",
       "3816                     NaN                  NaN  \n",
       "3817                     NaN                  NaN  \n",
       "\n",
       "[678 rows x 17 columns]"
      ]
     },
     "execution_count": 328,
     "metadata": {},
     "output_type": "execute_result"
    }
   ],
   "source": [
    "df_copy[df_copy.isna().any(axis=1)]"
   ]
  },
  {
   "cell_type": "markdown",
   "id": "710d3e7d",
   "metadata": {},
   "source": [
    "> Reviewing the null values in the columns, the most null values are in the columns that contains scores. With the code above, is easy to see is a group of registers that are null, so in this case I will choose the drop this register, because it´s difficult to fill this values. "
   ]
  },
  {
   "cell_type": "code",
   "execution_count": 329,
   "id": "7f4f94be",
   "metadata": {},
   "outputs": [],
   "source": [
    "df_copy = df_copy.dropna(axis=0,how='any')"
   ]
  },
  {
   "cell_type": "code",
   "execution_count": 330,
   "id": "e4dd8978",
   "metadata": {},
   "outputs": [
    {
     "name": "stdout",
     "output_type": "stream",
     "text": [
      "<class 'pandas.core.frame.DataFrame'>\n",
      "Int64Index: 3140 entries, 0 to 3814\n",
      "Data columns (total 17 columns):\n",
      " #   Column                       Non-Null Count  Dtype  \n",
      "---  ------                       --------------  -----  \n",
      " 0   neighbourhood_cleansed       3140 non-null   object \n",
      " 1   property_type                3140 non-null   object \n",
      " 2   room_type                    3140 non-null   object \n",
      " 3   accommodates                 3140 non-null   int64  \n",
      " 4   bathrooms                    3140 non-null   float64\n",
      " 5   bedrooms                     3140 non-null   float64\n",
      " 6   beds                         3140 non-null   float64\n",
      " 7   bed_type                     3140 non-null   object \n",
      " 8   price                        3140 non-null   object \n",
      " 9   guests_included              3140 non-null   int64  \n",
      " 10  review_scores_rating         3140 non-null   float64\n",
      " 11  review_scores_accuracy       3140 non-null   float64\n",
      " 12  review_scores_cleanliness    3140 non-null   float64\n",
      " 13  review_scores_checkin        3140 non-null   float64\n",
      " 14  review_scores_communication  3140 non-null   float64\n",
      " 15  review_scores_location       3140 non-null   float64\n",
      " 16  review_scores_value          3140 non-null   float64\n",
      "dtypes: float64(10), int64(2), object(5)\n",
      "memory usage: 441.6+ KB\n"
     ]
    }
   ],
   "source": [
    "df_copy.info()"
   ]
  },
  {
   "cell_type": "code",
   "execution_count": 331,
   "id": "9c932ee4",
   "metadata": {},
   "outputs": [
    {
     "data": {
      "text/plain": [
       "neighbourhood_cleansed         0\n",
       "property_type                  0\n",
       "room_type                      0\n",
       "accommodates                   0\n",
       "bathrooms                      0\n",
       "bedrooms                       0\n",
       "beds                           0\n",
       "bed_type                       0\n",
       "price                          0\n",
       "guests_included                0\n",
       "review_scores_rating           0\n",
       "review_scores_accuracy         0\n",
       "review_scores_cleanliness      0\n",
       "review_scores_checkin          0\n",
       "review_scores_communication    0\n",
       "review_scores_location         0\n",
       "review_scores_value            0\n",
       "dtype: int64"
      ]
     },
     "execution_count": 331,
     "metadata": {},
     "output_type": "execute_result"
    }
   ],
   "source": [
    "df_copy.isnull().sum()"
   ]
  },
  {
   "cell_type": "markdown",
   "id": "87672745",
   "metadata": {},
   "source": [
    "> 3 and 4. Fix the price column"
   ]
  },
  {
   "cell_type": "code",
   "execution_count": 332,
   "id": "d0bc6c14",
   "metadata": {},
   "outputs": [],
   "source": [
    "#Remove the the sign ($)\n",
    "df_copy['price'] = df_copy['price'].str.split('$').str[1]"
   ]
  },
  {
   "cell_type": "code",
   "execution_count": 333,
   "id": "762bce43",
   "metadata": {},
   "outputs": [
    {
     "data": {
      "text/plain": [
       "0        85.00\n",
       "1       150.00\n",
       "2       975.00\n",
       "4       450.00\n",
       "5       120.00\n",
       "         ...  \n",
       "3810    154.00\n",
       "3811     65.00\n",
       "3812     95.00\n",
       "3813    359.00\n",
       "3814     79.00\n",
       "Name: price, Length: 3140, dtype: object"
      ]
     },
     "execution_count": 333,
     "metadata": {},
     "output_type": "execute_result"
    }
   ],
   "source": [
    "df_copy['price']"
   ]
  },
  {
   "cell_type": "code",
   "execution_count": 334,
   "id": "4b8f0dc3",
   "metadata": {},
   "outputs": [],
   "source": [
    "#Remove the the sign ($)\n",
    "df_copy['price'] = df_copy['price'].str.replace(',','')"
   ]
  },
  {
   "cell_type": "code",
   "execution_count": 335,
   "id": "839954fe",
   "metadata": {},
   "outputs": [
    {
     "data": {
      "text/html": [
       "<div>\n",
       "<style scoped>\n",
       "    .dataframe tbody tr th:only-of-type {\n",
       "        vertical-align: middle;\n",
       "    }\n",
       "\n",
       "    .dataframe tbody tr th {\n",
       "        vertical-align: top;\n",
       "    }\n",
       "\n",
       "    .dataframe thead th {\n",
       "        text-align: right;\n",
       "    }\n",
       "</style>\n",
       "<table border=\"1\" class=\"dataframe\">\n",
       "  <thead>\n",
       "    <tr style=\"text-align: right;\">\n",
       "      <th></th>\n",
       "      <th>neighbourhood_cleansed</th>\n",
       "      <th>property_type</th>\n",
       "      <th>room_type</th>\n",
       "      <th>accommodates</th>\n",
       "      <th>bathrooms</th>\n",
       "      <th>bedrooms</th>\n",
       "      <th>beds</th>\n",
       "      <th>bed_type</th>\n",
       "      <th>price</th>\n",
       "      <th>guests_included</th>\n",
       "      <th>review_scores_rating</th>\n",
       "      <th>review_scores_accuracy</th>\n",
       "      <th>review_scores_cleanliness</th>\n",
       "      <th>review_scores_checkin</th>\n",
       "      <th>review_scores_communication</th>\n",
       "      <th>review_scores_location</th>\n",
       "      <th>review_scores_value</th>\n",
       "    </tr>\n",
       "  </thead>\n",
       "  <tbody>\n",
       "    <tr>\n",
       "      <th>3122</th>\n",
       "      <td>Roosevelt</td>\n",
       "      <td>House</td>\n",
       "      <td>Entire home/apt</td>\n",
       "      <td>4</td>\n",
       "      <td>1.0</td>\n",
       "      <td>2.0</td>\n",
       "      <td>2.0</td>\n",
       "      <td>Real Bed</td>\n",
       "      <td>1000.00</td>\n",
       "      <td>1</td>\n",
       "      <td>100.0</td>\n",
       "      <td>10.0</td>\n",
       "      <td>10.0</td>\n",
       "      <td>10.0</td>\n",
       "      <td>10.0</td>\n",
       "      <td>8.0</td>\n",
       "      <td>10.0</td>\n",
       "    </tr>\n",
       "  </tbody>\n",
       "</table>\n",
       "</div>"
      ],
      "text/plain": [
       "     neighbourhood_cleansed property_type        room_type  accommodates  \\\n",
       "3122              Roosevelt         House  Entire home/apt             4   \n",
       "\n",
       "      bathrooms  bedrooms  beds  bed_type    price  guests_included  \\\n",
       "3122        1.0       2.0   2.0  Real Bed  1000.00                1   \n",
       "\n",
       "      review_scores_rating  review_scores_accuracy  review_scores_cleanliness  \\\n",
       "3122                 100.0                    10.0                       10.0   \n",
       "\n",
       "      review_scores_checkin  review_scores_communication  \\\n",
       "3122                   10.0                         10.0   \n",
       "\n",
       "      review_scores_location  review_scores_value  \n",
       "3122                     8.0                 10.0  "
      ]
     },
     "execution_count": 335,
     "metadata": {},
     "output_type": "execute_result"
    }
   ],
   "source": [
    "df_copy[df_copy['price'] == '1000.00']"
   ]
  },
  {
   "cell_type": "code",
   "execution_count": 336,
   "id": "bbabbc45",
   "metadata": {},
   "outputs": [],
   "source": [
    "#change the Dtype of price column\n",
    "df_copy['price'] = df_copy['price'].astype(float)"
   ]
  },
  {
   "cell_type": "code",
   "execution_count": 337,
   "id": "40902429",
   "metadata": {},
   "outputs": [
    {
     "data": {
      "text/plain": [
       "127.0251592356688"
      ]
     },
     "execution_count": 337,
     "metadata": {},
     "output_type": "execute_result"
    }
   ],
   "source": [
    "df_copy['price'].mean()"
   ]
  },
  {
   "cell_type": "markdown",
   "id": "029b2c0e",
   "metadata": {},
   "source": [
    "> 5. Replace values (cero) in guest_included, with values in accommodates"
   ]
  },
  {
   "cell_type": "code",
   "execution_count": 338,
   "id": "a474afac",
   "metadata": {},
   "outputs": [
    {
     "data": {
      "text/plain": [
       "85"
      ]
     },
     "execution_count": 338,
     "metadata": {},
     "output_type": "execute_result"
    }
   ],
   "source": [
    "# Numbers of ceros in column 'guests_included'\n",
    "df_copy[df_copy['guests_included'] == 0].count().guests_included"
   ]
  },
  {
   "cell_type": "code",
   "execution_count": 339,
   "id": "c002aa2a",
   "metadata": {},
   "outputs": [],
   "source": [
    "# replacing values\n",
    "df_copy.loc[df_copy['guests_included'] == 0, 'guests_included'] = df_copy['accommodates']"
   ]
  },
  {
   "cell_type": "code",
   "execution_count": 340,
   "id": "9dd44ef4",
   "metadata": {},
   "outputs": [
    {
     "data": {
      "text/plain": [
       "0"
      ]
     },
     "execution_count": 340,
     "metadata": {},
     "output_type": "execute_result"
    }
   ],
   "source": [
    "df_copy[df_copy['guests_included'] == 0].count().guests_included"
   ]
  },
  {
   "cell_type": "markdown",
   "id": "77d80587",
   "metadata": {},
   "source": [
    "> 6. Calculating the unit price column"
   ]
  },
  {
   "cell_type": "code",
   "execution_count": 341,
   "id": "615a6cb9",
   "metadata": {},
   "outputs": [],
   "source": [
    "df_copy['unit_price'] = df_copy['price'] / df_copy['guests_included']"
   ]
  },
  {
   "cell_type": "code",
   "execution_count": 342,
   "id": "a716186b",
   "metadata": {},
   "outputs": [
    {
     "data": {
      "text/plain": [
       "88.04059099958783"
      ]
     },
     "execution_count": 342,
     "metadata": {},
     "output_type": "execute_result"
    }
   ],
   "source": [
    "df_copy['unit_price'].mean()"
   ]
  },
  {
   "cell_type": "markdown",
   "id": "275d3d72",
   "metadata": {},
   "source": [
    "### Analizing and answering "
   ]
  },
  {
   "cell_type": "markdown",
   "id": "d1c01588",
   "metadata": {},
   "source": [
    "> 1- What is the most common property?"
   ]
  },
  {
   "cell_type": "code",
   "execution_count": 343,
   "id": "422f1048",
   "metadata": {},
   "outputs": [
    {
     "data": {
      "image/png": "[encoded data removed]",
      "text/plain": [
       "<Figure size 432x288 with 1 Axes>"
      ]
     },
     "metadata": {
      "needs_background": "light"
     },
     "output_type": "display_data"
    }
   ],
   "source": [
    "y_value = 'property_type'\n",
    "n_total = df_copy['property_type'].count()\n",
    "var_counts = df_copy['property_type'].value_counts()\n",
    "order = var_counts.index\n",
    "title = 'Proportion of types of properties'\n",
    "step_value = 0.05\n",
    "\n",
    "display_barh(df_copy,y_value,n_total, var_counts, order,title,step_value)"
   ]
  },
  {
   "cell_type": "markdown",
   "id": "28d1be10",
   "metadata": {},
   "source": [
    "> In this part, I will make a big decision, as an investment in this market. The folowing analysis about this market will be only for the two big properties (House and Apartment). So I have to drop the other kind of properties."
   ]
  },
  {
   "cell_type": "code",
   "execution_count": 344,
   "id": "bfd5aa82",
   "metadata": {},
   "outputs": [],
   "source": [
    "values = ['House','Apartment']"
   ]
  },
  {
   "cell_type": "code",
   "execution_count": 345,
   "id": "4275921d",
   "metadata": {},
   "outputs": [],
   "source": [
    "#este código ya no es necesario tampoco\n",
    "df_copy = df_copy.query(\"property_type in @values\")"
   ]
  },
  {
   "cell_type": "code",
   "execution_count": 346,
   "id": "0bd29a91",
   "metadata": {},
   "outputs": [
    {
     "name": "stdout",
     "output_type": "stream",
     "text": [
      "<class 'pandas.core.frame.DataFrame'>\n",
      "Int64Index: 2861 entries, 0 to 3814\n",
      "Data columns (total 18 columns):\n",
      " #   Column                       Non-Null Count  Dtype  \n",
      "---  ------                       --------------  -----  \n",
      " 0   neighbourhood_cleansed       2861 non-null   object \n",
      " 1   property_type                2861 non-null   object \n",
      " 2   room_type                    2861 non-null   object \n",
      " 3   accommodates                 2861 non-null   int64  \n",
      " 4   bathrooms                    2861 non-null   float64\n",
      " 5   bedrooms                     2861 non-null   float64\n",
      " 6   beds                         2861 non-null   float64\n",
      " 7   bed_type                     2861 non-null   object \n",
      " 8   price                        2861 non-null   float64\n",
      " 9   guests_included              2861 non-null   int64  \n",
      " 10  review_scores_rating         2861 non-null   float64\n",
      " 11  review_scores_accuracy       2861 non-null   float64\n",
      " 12  review_scores_cleanliness    2861 non-null   float64\n",
      " 13  review_scores_checkin        2861 non-null   float64\n",
      " 14  review_scores_communication  2861 non-null   float64\n",
      " 15  review_scores_location       2861 non-null   float64\n",
      " 16  review_scores_value          2861 non-null   float64\n",
      " 17  unit_price                   2861 non-null   float64\n",
      "dtypes: float64(12), int64(2), object(4)\n",
      "memory usage: 424.7+ KB\n"
     ]
    }
   ],
   "source": [
    "df_copy.info()"
   ]
  },
  {
   "cell_type": "markdown",
   "id": "b14c44be",
   "metadata": {},
   "source": [
    "> 2 - How is the behavior of the unit price of that specific properties?"
   ]
  },
  {
   "cell_type": "code",
   "execution_count": 347,
   "id": "9dd0ddb1",
   "metadata": {},
   "outputs": [
    {
     "data": {
      "text/html": [
       "<div>\n",
       "<style scoped>\n",
       "    .dataframe tbody tr th:only-of-type {\n",
       "        vertical-align: middle;\n",
       "    }\n",
       "\n",
       "    .dataframe tbody tr th {\n",
       "        vertical-align: top;\n",
       "    }\n",
       "\n",
       "    .dataframe thead th {\n",
       "        text-align: right;\n",
       "    }\n",
       "</style>\n",
       "<table border=\"1\" class=\"dataframe\">\n",
       "  <thead>\n",
       "    <tr style=\"text-align: right;\">\n",
       "      <th></th>\n",
       "      <th>count</th>\n",
       "      <th>mean</th>\n",
       "      <th>std</th>\n",
       "      <th>min</th>\n",
       "      <th>25%</th>\n",
       "      <th>50%</th>\n",
       "      <th>75%</th>\n",
       "      <th>max</th>\n",
       "    </tr>\n",
       "    <tr>\n",
       "      <th>property_type</th>\n",
       "      <th></th>\n",
       "      <th></th>\n",
       "      <th></th>\n",
       "      <th></th>\n",
       "      <th></th>\n",
       "      <th></th>\n",
       "      <th></th>\n",
       "      <th></th>\n",
       "    </tr>\n",
       "  </thead>\n",
       "  <tbody>\n",
       "    <tr>\n",
       "      <th>Apartment</th>\n",
       "      <td>1414.0</td>\n",
       "      <td>92.439533</td>\n",
       "      <td>66.949271</td>\n",
       "      <td>18.750000</td>\n",
       "      <td>50.0</td>\n",
       "      <td>75.000000</td>\n",
       "      <td>115.0</td>\n",
       "      <td>999.0</td>\n",
       "    </tr>\n",
       "    <tr>\n",
       "      <th>House</th>\n",
       "      <td>1447.0</td>\n",
       "      <td>84.343282</td>\n",
       "      <td>80.666300</td>\n",
       "      <td>16.714286</td>\n",
       "      <td>40.0</td>\n",
       "      <td>58.333333</td>\n",
       "      <td>90.0</td>\n",
       "      <td>1000.0</td>\n",
       "    </tr>\n",
       "  </tbody>\n",
       "</table>\n",
       "</div>"
      ],
      "text/plain": [
       "                count       mean        std        min   25%        50%  \\\n",
       "property_type                                                             \n",
       "Apartment      1414.0  92.439533  66.949271  18.750000  50.0  75.000000   \n",
       "House          1447.0  84.343282  80.666300  16.714286  40.0  58.333333   \n",
       "\n",
       "                 75%     max  \n",
       "property_type                 \n",
       "Apartment      115.0   999.0  \n",
       "House           90.0  1000.0  "
      ]
     },
     "execution_count": 347,
     "metadata": {},
     "output_type": "execute_result"
    }
   ],
   "source": [
    "df_copy.groupby('property_type').describe().unit_price"
   ]
  },
  {
   "cell_type": "code",
   "execution_count": 348,
   "id": "c386b3ef",
   "metadata": {},
   "outputs": [
    {
     "data": {
      "image/png": "[encoded data removed]",
      "text/plain": [
       "<Figure size 432x288 with 2 Axes>"
      ]
     },
     "metadata": {
      "needs_background": "light"
     },
     "output_type": "display_data"
    }
   ],
   "source": [
    "#Histogram for unit price by property_type\n",
    "df_copy['unit_price'].hist(by= df_copy['property_type']);"
   ]
  },
  {
   "cell_type": "code",
   "execution_count": 349,
   "id": "42daa9cf",
   "metadata": {},
   "outputs": [
    {
     "data": {
      "image/png": "[encoded data removed]",
      "text/plain": [
       "<Figure size 720x576 with 1 Axes>"
      ]
     },
     "metadata": {
      "needs_background": "light"
     },
     "output_type": "display_data"
    }
   ],
   "source": [
    "fig, ax = plt.subplots(figsize=(10,8))\n",
    "df_copy.boxplot(column=['unit_price'], by='property_type', ax=ax);"
   ]
  },
  {
   "cell_type": "markdown",
   "id": "64b8d362",
   "metadata": {},
   "source": [
    "> In this part, I have seen that unit price for Apartments and Houses are very close. In general, the unit prices for houses are down in comparison with Apartment prices"
   ]
  },
  {
   "cell_type": "markdown",
   "id": "8ca74ce7",
   "metadata": {},
   "source": [
    "> 3 - What kind of things that properties should have?"
   ]
  },
  {
   "cell_type": "markdown",
   "id": "4c6fb3a7",
   "metadata": {},
   "source": [
    ">> For this part, I want to check individuals, first by HOUSES and second by APARTMENTS"
   ]
  },
  {
   "cell_type": "code",
   "execution_count": 350,
   "id": "8a3f889a",
   "metadata": {},
   "outputs": [],
   "source": [
    "values_house = ['House']\n",
    "values_apartment = ['Apartment']"
   ]
  },
  {
   "cell_type": "code",
   "execution_count": 351,
   "id": "c1b99c60",
   "metadata": {},
   "outputs": [],
   "source": [
    "#este código ya no es necesario tampoco\n",
    "df_houses = df_copy.query(\"property_type in @values_house\")\n",
    "df_apartment = df_copy.query(\"property_type in @values_apartment\")"
   ]
  },
  {
   "cell_type": "code",
   "execution_count": 352,
   "id": "67408bf1",
   "metadata": {},
   "outputs": [
    {
     "data": {
      "text/plain": [
       "1447"
      ]
     },
     "execution_count": 352,
     "metadata": {},
     "output_type": "execute_result"
    }
   ],
   "source": [
    "df_houses['property_type'].shape[0]"
   ]
  },
  {
   "cell_type": "code",
   "execution_count": 353,
   "id": "e9518f25",
   "metadata": {},
   "outputs": [
    {
     "data": {
      "text/plain": [
       "1414"
      ]
     },
     "execution_count": 353,
     "metadata": {},
     "output_type": "execute_result"
    }
   ],
   "source": [
    "df_apartment['property_type'].shape[0]"
   ]
  },
  {
   "cell_type": "code",
   "execution_count": 354,
   "id": "005733e4",
   "metadata": {},
   "outputs": [
    {
     "data": {
      "image/png": "[encoded data removed]",
      "text/plain": [
       "<Figure size 432x504 with 2 Axes>"
      ]
     },
     "metadata": {
      "needs_background": "light"
     },
     "output_type": "display_data"
    }
   ],
   "source": [
    "#DEFINE THE TYPE OF ROOMS OR ENTIRE HOUSE OR APARTMENT\n",
    "plt.figure(figsize = (6,7))\n",
    "plt.subplot(2,1,1)\n",
    "sb.countplot(data=df_houses, y = 'room_type')\n",
    "\n",
    "y_value = 'room_type'\n",
    "n_total = df_houses['room_type'].count()\n",
    "var_counts = df_houses['room_type'].value_counts()\n",
    "order = var_counts.index\n",
    "title = 'Proportion of room types in Houses'\n",
    "step_value = 0.10\n",
    "\n",
    "display_barh(df_houses,y_value,n_total, var_counts, order,title,step_value)\n",
    "\n",
    "plt.subplot(2,1,2)\n",
    "plt.subplots_adjust(top = 0.99, bottom=0.01, hspace=0.5, wspace=0.4)\n",
    "sb.countplot(data=df_apartment, y = 'room_type')\n",
    "\n",
    "y_value = 'room_type'\n",
    "n_total = df_apartment['room_type'].count()\n",
    "var_counts = df_apartment['room_type'].value_counts()\n",
    "order = var_counts.index\n",
    "title = 'Proportion of room types in Apartments'\n",
    "step_value = 0.10\n",
    "\n",
    "display_barh(df_apartment,y_value,n_total, var_counts, order,title,step_value)"
   ]
  },
  {
   "cell_type": "code",
   "execution_count": 355,
   "id": "22ddd304",
   "metadata": {},
   "outputs": [
    {
     "data": {
      "image/png": "[encoded data removed]",
      "text/plain": [
       "<Figure size 432x504 with 2 Axes>"
      ]
     },
     "metadata": {
      "needs_background": "light"
     },
     "output_type": "display_data"
    }
   ],
   "source": [
    "#DEFINE THE TYPE OF BED IN HOUSES OR APARTMENTS\n",
    "plt.figure(figsize = (6,7))\n",
    "plt.subplot(2,1,1)\n",
    "sb.countplot(data=df_houses, y = 'bed_type')\n",
    "\n",
    "y_value = 'bed_type'\n",
    "n_total = df_houses['bed_type'].count()\n",
    "var_counts = df_houses['bed_type'].value_counts()\n",
    "order = var_counts.index\n",
    "title = 'Proportion of bed types in Houses'\n",
    "step_value = 0.10\n",
    "\n",
    "display_barh(df_houses,y_value,n_total, var_counts, order,title,step_value)\n",
    "\n",
    "plt.subplot(2,1,2)\n",
    "plt.subplots_adjust(top = 0.99, bottom=0.01, hspace=0.5, wspace=0.4)\n",
    "sb.countplot(data=df_apartment, y = 'bed_type')\n",
    "\n",
    "y_value = 'bed_type'\n",
    "n_total = df_apartment['bed_type'].count()\n",
    "var_counts = df_apartment['bed_type'].value_counts()\n",
    "order = var_counts.index\n",
    "title = 'Proportion of bed types in Apartments'\n",
    "step_value = 0.10\n",
    "\n",
    "display_barh(df_apartment,y_value,n_total, var_counts, order,title,step_value)"
   ]
  },
  {
   "cell_type": "code",
   "execution_count": 356,
   "id": "f19709bf",
   "metadata": {},
   "outputs": [
    {
     "data": {
      "text/html": [
       "<div>\n",
       "<style scoped>\n",
       "    .dataframe tbody tr th:only-of-type {\n",
       "        vertical-align: middle;\n",
       "    }\n",
       "\n",
       "    .dataframe tbody tr th {\n",
       "        vertical-align: top;\n",
       "    }\n",
       "\n",
       "    .dataframe thead th {\n",
       "        text-align: right;\n",
       "    }\n",
       "</style>\n",
       "<table border=\"1\" class=\"dataframe\">\n",
       "  <thead>\n",
       "    <tr style=\"text-align: right;\">\n",
       "      <th></th>\n",
       "      <th>count</th>\n",
       "      <th>mean</th>\n",
       "      <th>std</th>\n",
       "      <th>min</th>\n",
       "      <th>25%</th>\n",
       "      <th>50%</th>\n",
       "      <th>75%</th>\n",
       "      <th>max</th>\n",
       "    </tr>\n",
       "    <tr>\n",
       "      <th>property_type</th>\n",
       "      <th></th>\n",
       "      <th></th>\n",
       "      <th></th>\n",
       "      <th></th>\n",
       "      <th></th>\n",
       "      <th></th>\n",
       "      <th></th>\n",
       "      <th></th>\n",
       "    </tr>\n",
       "  </thead>\n",
       "  <tbody>\n",
       "    <tr>\n",
       "      <th>Apartment</th>\n",
       "      <td>1414.0</td>\n",
       "      <td>1.096535</td>\n",
       "      <td>0.291509</td>\n",
       "      <td>1.0</td>\n",
       "      <td>1.0</td>\n",
       "      <td>1.0</td>\n",
       "      <td>1.0</td>\n",
       "      <td>3.0</td>\n",
       "    </tr>\n",
       "    <tr>\n",
       "      <th>House</th>\n",
       "      <td>1447.0</td>\n",
       "      <td>1.402903</td>\n",
       "      <td>0.703237</td>\n",
       "      <td>0.0</td>\n",
       "      <td>1.0</td>\n",
       "      <td>1.0</td>\n",
       "      <td>1.5</td>\n",
       "      <td>5.0</td>\n",
       "    </tr>\n",
       "  </tbody>\n",
       "</table>\n",
       "</div>"
      ],
      "text/plain": [
       "                count      mean       std  min  25%  50%  75%  max\n",
       "property_type                                                     \n",
       "Apartment      1414.0  1.096535  0.291509  1.0  1.0  1.0  1.0  3.0\n",
       "House          1447.0  1.402903  0.703237  0.0  1.0  1.0  1.5  5.0"
      ]
     },
     "execution_count": 356,
     "metadata": {},
     "output_type": "execute_result"
    }
   ],
   "source": [
    "#Numbers of bathrooms\n",
    "df_copy.groupby('property_type').describe().bathrooms"
   ]
  },
  {
   "cell_type": "code",
   "execution_count": 357,
   "id": "933927a8",
   "metadata": {},
   "outputs": [
    {
     "data": {
      "text/html": [
       "<div>\n",
       "<style scoped>\n",
       "    .dataframe tbody tr th:only-of-type {\n",
       "        vertical-align: middle;\n",
       "    }\n",
       "\n",
       "    .dataframe tbody tr th {\n",
       "        vertical-align: top;\n",
       "    }\n",
       "\n",
       "    .dataframe thead th {\n",
       "        text-align: right;\n",
       "    }\n",
       "</style>\n",
       "<table border=\"1\" class=\"dataframe\">\n",
       "  <thead>\n",
       "    <tr style=\"text-align: right;\">\n",
       "      <th></th>\n",
       "      <th>count</th>\n",
       "      <th>mean</th>\n",
       "      <th>std</th>\n",
       "      <th>min</th>\n",
       "      <th>25%</th>\n",
       "      <th>50%</th>\n",
       "      <th>75%</th>\n",
       "      <th>max</th>\n",
       "    </tr>\n",
       "    <tr>\n",
       "      <th>property_type</th>\n",
       "      <th></th>\n",
       "      <th></th>\n",
       "      <th></th>\n",
       "      <th></th>\n",
       "      <th></th>\n",
       "      <th></th>\n",
       "      <th></th>\n",
       "      <th></th>\n",
       "    </tr>\n",
       "  </thead>\n",
       "  <tbody>\n",
       "    <tr>\n",
       "      <th>Apartment</th>\n",
       "      <td>1414.0</td>\n",
       "      <td>1.550212</td>\n",
       "      <td>0.839546</td>\n",
       "      <td>1.0</td>\n",
       "      <td>1.0</td>\n",
       "      <td>1.0</td>\n",
       "      <td>2.0</td>\n",
       "      <td>7.0</td>\n",
       "    </tr>\n",
       "    <tr>\n",
       "      <th>House</th>\n",
       "      <td>1447.0</td>\n",
       "      <td>1.946095</td>\n",
       "      <td>1.373478</td>\n",
       "      <td>1.0</td>\n",
       "      <td>1.0</td>\n",
       "      <td>1.0</td>\n",
       "      <td>3.0</td>\n",
       "      <td>15.0</td>\n",
       "    </tr>\n",
       "  </tbody>\n",
       "</table>\n",
       "</div>"
      ],
      "text/plain": [
       "                count      mean       std  min  25%  50%  75%   max\n",
       "property_type                                                      \n",
       "Apartment      1414.0  1.550212  0.839546  1.0  1.0  1.0  2.0   7.0\n",
       "House          1447.0  1.946095  1.373478  1.0  1.0  1.0  3.0  15.0"
      ]
     },
     "execution_count": 357,
     "metadata": {},
     "output_type": "execute_result"
    }
   ],
   "source": [
    "#Numbers of beds\n",
    "df_copy.groupby('property_type').describe().beds"
   ]
  },
  {
   "cell_type": "code",
   "execution_count": 358,
   "id": "0d32c247",
   "metadata": {},
   "outputs": [
    {
     "data": {
      "text/html": [
       "<div>\n",
       "<style scoped>\n",
       "    .dataframe tbody tr th:only-of-type {\n",
       "        vertical-align: middle;\n",
       "    }\n",
       "\n",
       "    .dataframe tbody tr th {\n",
       "        vertical-align: top;\n",
       "    }\n",
       "\n",
       "    .dataframe thead th {\n",
       "        text-align: right;\n",
       "    }\n",
       "</style>\n",
       "<table border=\"1\" class=\"dataframe\">\n",
       "  <thead>\n",
       "    <tr style=\"text-align: right;\">\n",
       "      <th></th>\n",
       "      <th>count</th>\n",
       "      <th>mean</th>\n",
       "      <th>std</th>\n",
       "      <th>min</th>\n",
       "      <th>25%</th>\n",
       "      <th>50%</th>\n",
       "      <th>75%</th>\n",
       "      <th>max</th>\n",
       "    </tr>\n",
       "    <tr>\n",
       "      <th>property_type</th>\n",
       "      <th></th>\n",
       "      <th></th>\n",
       "      <th></th>\n",
       "      <th></th>\n",
       "      <th></th>\n",
       "      <th></th>\n",
       "      <th></th>\n",
       "      <th></th>\n",
       "    </tr>\n",
       "  </thead>\n",
       "  <tbody>\n",
       "    <tr>\n",
       "      <th>Apartment</th>\n",
       "      <td>1414.0</td>\n",
       "      <td>1.043847</td>\n",
       "      <td>0.622349</td>\n",
       "      <td>0.0</td>\n",
       "      <td>1.0</td>\n",
       "      <td>1.0</td>\n",
       "      <td>1.0</td>\n",
       "      <td>4.0</td>\n",
       "    </tr>\n",
       "    <tr>\n",
       "      <th>House</th>\n",
       "      <td>1447.0</td>\n",
       "      <td>1.594333</td>\n",
       "      <td>1.022862</td>\n",
       "      <td>0.0</td>\n",
       "      <td>1.0</td>\n",
       "      <td>1.0</td>\n",
       "      <td>2.0</td>\n",
       "      <td>7.0</td>\n",
       "    </tr>\n",
       "  </tbody>\n",
       "</table>\n",
       "</div>"
      ],
      "text/plain": [
       "                count      mean       std  min  25%  50%  75%  max\n",
       "property_type                                                     \n",
       "Apartment      1414.0  1.043847  0.622349  0.0  1.0  1.0  1.0  4.0\n",
       "House          1447.0  1.594333  1.022862  0.0  1.0  1.0  2.0  7.0"
      ]
     },
     "execution_count": 358,
     "metadata": {},
     "output_type": "execute_result"
    }
   ],
   "source": [
    "#Numbers of bedrooms\n",
    "df_copy.groupby('property_type').describe().bedrooms"
   ]
  },
  {
   "cell_type": "markdown",
   "id": "f59f10cf",
   "metadata": {},
   "source": [
    ">> To define the type of rooms that is most common I found that in houses and apartment in my offer should be the entire Airbnb (House or Apartment) if my investment is in house I could think in to rent private room, but is still lower proportion of entire house.\n",
    "\n",
    ">> About the bed types, Real Bed is the option that you can find in the Seattle Market in houses and aparments.\n",
    "\n",
    ">> the median of bedrooms, bathrooms and beds in houses and apartmens in the Seattle Market is only on, but in the 75% of cases, the number of beds is 2 in apartments, 3 in houses, 1 bedroom in apartment and 2 bedrooms in houses, the bathrooms are 1 and 1.5 to apartment and houses."
   ]
  },
  {
   "cell_type": "markdown",
   "id": "d30028a5",
   "metadata": {},
   "source": [
    "> 4 - How could be a model to predict the unit price?"
   ]
  },
  {
   "cell_type": "code",
   "execution_count": 359,
   "id": "7863d539",
   "metadata": {},
   "outputs": [],
   "source": [
    "#Making a copy of dataset only for the model\n",
    "df_model = df_copy.copy()"
   ]
  },
  {
   "cell_type": "code",
   "execution_count": 360,
   "id": "b9860935",
   "metadata": {},
   "outputs": [],
   "source": [
    "df_model = df_model.drop(['property_type','accommodates','guests_included','price'], axis = 1)"
   ]
  },
  {
   "cell_type": "code",
   "execution_count": 361,
   "id": "ff6bb7ed",
   "metadata": {},
   "outputs": [
    {
     "data": {
      "text/plain": [
       "neighbourhood_cleansed         0\n",
       "room_type                      0\n",
       "bathrooms                      0\n",
       "bedrooms                       0\n",
       "beds                           0\n",
       "bed_type                       0\n",
       "review_scores_rating           0\n",
       "review_scores_accuracy         0\n",
       "review_scores_cleanliness      0\n",
       "review_scores_checkin          0\n",
       "review_scores_communication    0\n",
       "review_scores_location         0\n",
       "review_scores_value            0\n",
       "unit_price                     0\n",
       "dtype: int64"
      ]
     },
     "execution_count": 361,
     "metadata": {},
     "output_type": "execute_result"
    }
   ],
   "source": [
    "df_model.isnull().sum()"
   ]
  },
  {
   "cell_type": "code",
   "execution_count": 362,
   "id": "f5e68c37",
   "metadata": {},
   "outputs": [],
   "source": [
    "#Create dummies variables for categorical variables\n",
    "\n",
    "cat_df_list = ['room_type','bed_type','neighbourhood_cleansed']\n",
    "\n",
    "df_model = create_dummy_df(df_model, cat_df_list, dummy_na=False)"
   ]
  },
  {
   "cell_type": "code",
   "execution_count": 363,
   "id": "742b5df5",
   "metadata": {},
   "outputs": [
    {
     "name": "stderr",
     "output_type": "stream",
     "text": [
      "C:\\Users\\nadon\\anaconda3\\lib\\site-packages\\sklearn\\linear_model\\_base.py:141: FutureWarning: 'normalize' was deprecated in version 1.0 and will be removed in 1.2.\n",
      "If you wish to scale the data, use Pipeline with a StandardScaler in a preprocessing stage. To reproduce the previous behavior:\n",
      "\n",
      "from sklearn.pipeline import make_pipeline\n",
      "\n",
      "model = make_pipeline(StandardScaler(with_mean=False), LinearRegression())\n",
      "\n",
      "If you wish to pass a sample_weight parameter, you need to pass it as a fit parameter to each step of the pipeline as follows:\n",
      "\n",
      "kwargs = {s[0] + '__sample_weight': sample_weight for s in model.steps}\n",
      "model.fit(X, y, **kwargs)\n",
      "\n",
      "\n",
      "  warnings.warn(\n"
     ]
    }
   ],
   "source": [
    "#RUNNING THE MODEL\n",
    "X = df_model.drop(['unit_price'], axis=1)\n",
    "y = df_model['unit_price']\n",
    "\n",
    "X_train, X_test, y_train, y_test = train_test_split(X, y, test_size= .30, random_state=42)\n",
    "\n",
    "lm_model = LinearRegression(normalize = True)\n",
    "lm_model.fit(X_train, y_train)\n",
    "\n",
    "#Predict and score the model\n",
    "y_test_preds = lm_model.predict(X_test)\n",
    "\n",
    "\n",
    "#Rsquared and y_test\n",
    "rsquared_score = r2_score(y_test, y_test_preds)#r2_score\n",
    "length_y_test = len(y_test)#num in y_test\n",
    "\n"
   ]
  },
  {
   "cell_type": "code",
   "execution_count": 364,
   "id": "d94e04dc",
   "metadata": {},
   "outputs": [
    {
     "data": {
      "text/plain": [
       "0.14920789885619878"
      ]
     },
     "execution_count": 364,
     "metadata": {},
     "output_type": "execute_result"
    }
   ],
   "source": [
    "# GETTING THE R SQUARED\n",
    "rsquared_score"
   ]
  },
  {
   "cell_type": "markdown",
   "id": "c79ca050",
   "metadata": {},
   "source": [
    "> The rsquared is lower in my model, it is means the model can´t explain the variation in the unit price variable, maybe there are other variables which by this project have been omited, for example, the ammenities variables can add more support to this model."
   ]
  },
  {
   "cell_type": "code",
   "execution_count": null,
   "id": "abd76370",
   "metadata": {},
   "outputs": [],
   "source": []
  }
 ],
 "metadata": {
  "kernelspec": {
   "display_name": "Python 3 (ipykernel)",
   "language": "python",
   "name": "python3"
  },
  "language_info": {
   "codemirror_mode": {
    "name": "ipython",
    "version": 3
   },
   "file_extension": ".py",
   "mimetype": "text/x-python",
   "name": "python",
   "nbconvert_exporter": "python",
   "pygments_lexer": "ipython3",
   "version": "3.9.12"
  }
 },
 "nbformat": 4,
 "nbformat_minor": 5
}
